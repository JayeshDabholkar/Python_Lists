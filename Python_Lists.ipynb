{
  "nbformat": 4,
  "nbformat_minor": 0,
  "metadata": {
    "colab": {
      "provenance": [],
      "authorship_tag": "ABX9TyOoE+tLWklFLRpt8ynaz/ch",
      "include_colab_link": true
    },
    "kernelspec": {
      "name": "python3",
      "display_name": "Python 3"
    },
    "language_info": {
      "name": "python"
    }
  },
  "cells": [
    {
      "cell_type": "markdown",
      "metadata": {
        "id": "view-in-github",
        "colab_type": "text"
      },
      "source": [
        "<a href=\"https://colab.research.google.com/github/JayeshDabholkar/Python_Lists/blob/main/Python_Lists.ipynb\" target=\"_parent\"><img src=\"https://colab.research.google.com/assets/colab-badge.svg\" alt=\"Open In Colab\"/></a>"
      ]
    },
    {
      "cell_type": "code",
      "execution_count": null,
      "metadata": {
        "id": "qjVI8n_3Gs01"
      },
      "outputs": [],
      "source": [
        "# List is a collection of items\n",
        "array = [10, 44, 14, 94, 65]"
      ]
    },
    {
      "cell_type": "code",
      "source": [
        "print(array)"
      ],
      "metadata": {
        "colab": {
          "base_uri": "https://localhost:8080/"
        },
        "id": "nNIGS-EuG-ZM",
        "outputId": "f052c229-1c4e-4810-9fd0-f57b101709d4"
      },
      "execution_count": null,
      "outputs": [
        {
          "output_type": "stream",
          "name": "stdout",
          "text": [
            "[10, 44, 14, 94, 65]\n"
          ]
        }
      ]
    },
    {
      "cell_type": "code",
      "source": [
        "print(type(array))"
      ],
      "metadata": {
        "colab": {
          "base_uri": "https://localhost:8080/"
        },
        "id": "BJ7Eiyl9Hj_d",
        "outputId": "1fafcef0-f03b-4575-e0c9-42d2f12d8a9d"
      },
      "execution_count": null,
      "outputs": [
        {
          "output_type": "stream",
          "name": "stdout",
          "text": [
            "<class 'list'>\n"
          ]
        }
      ]
    },
    {
      "cell_type": "code",
      "source": [
        "bag_of_items = [34, 15, \"Hello kitty\", 1.35, True, [\"YO\", None]]\n",
        "print(bag_of_items)"
      ],
      "metadata": {
        "colab": {
          "base_uri": "https://localhost:8080/"
        },
        "id": "JfxX_xSQHzOK",
        "outputId": "396437ab-f275-4a15-c6a8-53c63403c17f"
      },
      "execution_count": null,
      "outputs": [
        {
          "output_type": "stream",
          "name": "stdout",
          "text": [
            "[34, 15, 'Hello kitty', 1.35, True, ['YO', None]]\n"
          ]
        }
      ]
    },
    {
      "cell_type": "code",
      "source": [
        "array = [10, 44, 14, 94, 65]\n",
        "print(len(array))"
      ],
      "metadata": {
        "colab": {
          "base_uri": "https://localhost:8080/"
        },
        "id": "NAZpOSceH7nM",
        "outputId": "f9d07d51-e43a-4eec-ad54-b54dcf86926b"
      },
      "execution_count": null,
      "outputs": [
        {
          "output_type": "stream",
          "name": "stdout",
          "text": [
            "5\n"
          ]
        }
      ]
    },
    {
      "cell_type": "code",
      "source": [
        "# index  0   1   2   3   4\n",
        "array = [10, 44, 14, 94, 65]\n",
        "\n",
        "# indices / indexes ( positions ) start from 0"
      ],
      "metadata": {
        "id": "SMuEMQo_IIEl"
      },
      "execution_count": null,
      "outputs": []
    },
    {
      "cell_type": "code",
      "source": [
        "array[0]"
      ],
      "metadata": {
        "colab": {
          "base_uri": "https://localhost:8080/"
        },
        "id": "qkqzTp-pIPH8",
        "outputId": "759e6da2-55db-49f4-e459-7d0470911e97"
      },
      "execution_count": null,
      "outputs": [
        {
          "output_type": "execute_result",
          "data": {
            "text/plain": [
              "10"
            ]
          },
          "metadata": {},
          "execution_count": 10
        }
      ]
    },
    {
      "cell_type": "code",
      "source": [
        "#index  0  1  2  3  4\n",
        "array = [10, 44, 14, 94, 65]\n",
        "\n",
        "n = len(array) # length = 5\n",
        "\n",
        "# Last element\n",
        "print(array[n-1]) # array[4]\n",
        "\n",
        "# List has N elements\n",
        "# Index starts form 0\n",
        "# Index will end at N-1\n",
        "# Becasue 0 to N-1 are N elements in total"
      ],
      "metadata": {
        "colab": {
          "base_uri": "https://localhost:8080/"
        },
        "id": "HM4l9BksIfQK",
        "outputId": "92f98330-c47c-4b53-cf1b-ac1b0c8a5535"
      },
      "execution_count": null,
      "outputs": [
        {
          "output_type": "stream",
          "name": "stdout",
          "text": [
            "65\n"
          ]
        }
      ]
    },
    {
      "cell_type": "code",
      "source": [
        "#index   0   1   2   3   4\n",
        "array = [10, 44, 14, 94, 65]\n",
        "#negin   -5  -4  -3  -2  -1\n",
        "\n",
        "# positive index : 0 to n-1\n",
        "# negative index : -1 to -n"
      ],
      "metadata": {
        "id": "xa9JANduIrBO"
      },
      "execution_count": null,
      "outputs": []
    },
    {
      "cell_type": "code",
      "source": [
        "array[-1]"
      ],
      "metadata": {
        "colab": {
          "base_uri": "https://localhost:8080/"
        },
        "id": "9hHRl62TI_VY",
        "outputId": "cb0a2c96-ed3a-4323-881b-0b38542c190d"
      },
      "execution_count": null,
      "outputs": [
        {
          "output_type": "execute_result",
          "data": {
            "text/plain": [
              "65"
            ]
          },
          "metadata": {},
          "execution_count": 13
        }
      ]
    },
    {
      "cell_type": "code",
      "source": [
        "# updating data\n",
        "array = [10, 44, 14, 94, 65]\n",
        "\n",
        "array[2] = 50\n",
        "\n",
        "print(array)"
      ],
      "metadata": {
        "colab": {
          "base_uri": "https://localhost:8080/"
        },
        "id": "A9widdgnI_a4",
        "outputId": "1ef0bed6-464d-4e6a-dd22-ebe2cc64e75a"
      },
      "execution_count": null,
      "outputs": [
        {
          "output_type": "stream",
          "name": "stdout",
          "text": [
            "[10, 44, 50, 94, 65]\n"
          ]
        }
      ]
    },
    {
      "cell_type": "code",
      "source": [
        "# inserting data\n",
        "a = [5, 6, 1]\n",
        "\n",
        "a.append(9)\n",
        "print(a)"
      ],
      "metadata": {
        "colab": {
          "base_uri": "https://localhost:8080/"
        },
        "id": "32WjWJCaI_i0",
        "outputId": "f17bce60-dd4d-4e38-96fc-2057292bc817"
      },
      "execution_count": null,
      "outputs": [
        {
          "output_type": "stream",
          "name": "stdout",
          "text": [
            "[5, 6, 1, 9]\n"
          ]
        }
      ]
    },
    {
      "cell_type": "code",
      "source": [
        "# Iterating over lists\n",
        "x = [1, 2, 3, 4, 5]\n",
        "# Print the squares of all elements in this list\n",
        "for i in x:\n",
        "  print(i**2, end = \" \")\n",
        "\n"
      ],
      "metadata": {
        "colab": {
          "base_uri": "https://localhost:8080/"
        },
        "id": "199Z8wZTJm9K",
        "outputId": "9cfb4296-4769-4440-d979-2b9e9643ff3d"
      },
      "execution_count": null,
      "outputs": [
        {
          "output_type": "stream",
          "name": "stdout",
          "text": [
            "1 4 9 16 25 "
          ]
        }
      ]
    },
    {
      "cell_type": "code",
      "source": [
        "# Print only the odd numbers in this list\n",
        "for i in x :\n",
        "  if i % 2 == 0 :\n",
        "    print(i, end = \" \")"
      ],
      "metadata": {
        "colab": {
          "base_uri": "https://localhost:8080/"
        },
        "id": "AzWr2sbrJnCr",
        "outputId": "47d01b8b-08fd-4803-a110-bd656ede9da1"
      },
      "execution_count": null,
      "outputs": [
        {
          "output_type": "stream",
          "name": "stdout",
          "text": [
            "2 4 "
          ]
        }
      ]
    },
    {
      "cell_type": "code",
      "source": [
        "# Given a list of numbers, compute their\n",
        "\n",
        "# sum\n",
        "# min\n",
        "# max\n",
        "# average"
      ],
      "metadata": {
        "id": "Axvby2-fJnGa"
      },
      "execution_count": null,
      "outputs": []
    },
    {
      "cell_type": "code",
      "source": [
        "#sum\n",
        "sum = 0\n",
        "for i in x :\n",
        "  sum += i\n",
        "print(sum) "
      ],
      "metadata": {
        "colab": {
          "base_uri": "https://localhost:8080/"
        },
        "id": "18VJulS-K5pt",
        "outputId": "ce2768f1-af36-48cc-d7d4-1c24d04f9dda"
      },
      "execution_count": null,
      "outputs": [
        {
          "output_type": "stream",
          "name": "stdout",
          "text": [
            "15\n"
          ]
        }
      ]
    },
    {
      "cell_type": "code",
      "source": [
        "#avg\n",
        "avg = sum/len(x)\n",
        "print(avg)"
      ],
      "metadata": {
        "colab": {
          "base_uri": "https://localhost:8080/"
        },
        "id": "N6ApjQeNLMDx",
        "outputId": "fea74d6f-1cf5-4c3f-fd39-1f92b82c6667"
      },
      "execution_count": null,
      "outputs": [
        {
          "output_type": "stream",
          "name": "stdout",
          "text": [
            "3.0\n"
          ]
        }
      ]
    },
    {
      "cell_type": "code",
      "source": [
        "#max\n",
        "\n",
        "mx = float(\"-inf\")\n",
        "\n",
        "for i in x :\n",
        "  if i > mx :\n",
        "    mx = i\n",
        "print(mx)"
      ],
      "metadata": {
        "colab": {
          "base_uri": "https://localhost:8080/"
        },
        "id": "Ty8WF8RkLjXr",
        "outputId": "d6038305-bb25-4738-a684-91b8960263d3"
      },
      "execution_count": null,
      "outputs": [
        {
          "output_type": "stream",
          "name": "stdout",
          "text": [
            "5\n"
          ]
        }
      ]
    },
    {
      "cell_type": "code",
      "source": [
        "# min\n",
        "import math\n",
        "\n",
        "mn = math.inf # -math.inf\n",
        "\n",
        "for i in x :\n",
        "  if i < mn :\n",
        "    mn = i\n",
        "\n",
        "print(mn)"
      ],
      "metadata": {
        "colab": {
          "base_uri": "https://localhost:8080/"
        },
        "id": "bTfnxtXnMNZo",
        "outputId": "a3dfb1bc-36ae-4b13-9dbc-00ec76c14166"
      },
      "execution_count": null,
      "outputs": [
        {
          "output_type": "stream",
          "name": "stdout",
          "text": [
            "1\n"
          ]
        }
      ]
    },
    {
      "cell_type": "code",
      "source": [
        "# Removing Data"
      ],
      "metadata": {
        "id": "RFz6D-UEMaH_"
      },
      "execution_count": null,
      "outputs": []
    },
    {
      "cell_type": "code",
      "source": [
        "# remove - Removes the first occurence\n",
        "array = [10, 44, 14, 94, 65]\n",
        "array.remove(14)\n",
        "print(array)"
      ],
      "metadata": {
        "colab": {
          "base_uri": "https://localhost:8080/"
        },
        "id": "MVf-UtfwNgqD",
        "outputId": "ebbd738c-e93e-408e-ad74-12995290511c"
      },
      "execution_count": null,
      "outputs": [
        {
          "output_type": "stream",
          "name": "stdout",
          "text": [
            "[10, 44, 94, 65]\n"
          ]
        }
      ]
    },
    {
      "cell_type": "code",
      "source": [
        "# pop - Pops the value at the given index. If no index is given, it pops the last element.\n",
        "array = [10, 44, 14, 94, 65]\n",
        "array.pop(1)\n",
        "print(array)"
      ],
      "metadata": {
        "colab": {
          "base_uri": "https://localhost:8080/"
        },
        "id": "oopbMG_BOFFh",
        "outputId": "30d51056-9717-4a35-fe75-c05f64088b1c"
      },
      "execution_count": null,
      "outputs": [
        {
          "output_type": "stream",
          "name": "stdout",
          "text": [
            "[10, 14, 94, 65]\n"
          ]
        }
      ]
    },
    {
      "cell_type": "code",
      "source": [
        "# del - keyword which allows us to delete the specified value\n",
        "array = [10, 44, 14, 94, 65]\n",
        "del array\n",
        "print(array)"
      ],
      "metadata": {
        "colab": {
          "base_uri": "https://localhost:8080/",
          "height": 208
        },
        "id": "ON08XbkbOPs4",
        "outputId": "8411e853-b15e-4091-adaa-ec71c5bc89f5"
      },
      "execution_count": null,
      "outputs": [
        {
          "output_type": "error",
          "ename": "NameError",
          "evalue": "ignored",
          "traceback": [
            "\u001b[0;31m---------------------------------------------------------------------------\u001b[0m",
            "\u001b[0;31mNameError\u001b[0m                                 Traceback (most recent call last)",
            "\u001b[0;32m<ipython-input-41-ba64458de06e>\u001b[0m in \u001b[0;36m<cell line: 4>\u001b[0;34m()\u001b[0m\n\u001b[1;32m      2\u001b[0m \u001b[0marray\u001b[0m \u001b[0;34m=\u001b[0m \u001b[0;34m[\u001b[0m\u001b[0;36m10\u001b[0m\u001b[0;34m,\u001b[0m \u001b[0;36m44\u001b[0m\u001b[0;34m,\u001b[0m \u001b[0;36m14\u001b[0m\u001b[0;34m,\u001b[0m \u001b[0;36m94\u001b[0m\u001b[0;34m,\u001b[0m \u001b[0;36m65\u001b[0m\u001b[0;34m]\u001b[0m\u001b[0;34m\u001b[0m\u001b[0;34m\u001b[0m\u001b[0m\n\u001b[1;32m      3\u001b[0m \u001b[0;32mdel\u001b[0m \u001b[0marray\u001b[0m\u001b[0;34m\u001b[0m\u001b[0;34m\u001b[0m\u001b[0m\n\u001b[0;32m----> 4\u001b[0;31m \u001b[0mprint\u001b[0m\u001b[0;34m(\u001b[0m\u001b[0marray\u001b[0m\u001b[0;34m)\u001b[0m\u001b[0;34m\u001b[0m\u001b[0;34m\u001b[0m\u001b[0m\n\u001b[0m",
            "\u001b[0;31mNameError\u001b[0m: name 'array' is not defined"
          ]
        }
      ]
    },
    {
      "cell_type": "code",
      "source": [
        "# Split is an inbuilt function defined on all strings.\n",
        "# It splits the string and gives you a list\n",
        "# By default, it splits at space\n",
        "\n",
        "a = \"Hi my name is Jay\"\n",
        "b = a.split()\n",
        "b"
      ],
      "metadata": {
        "colab": {
          "base_uri": "https://localhost:8080/"
        },
        "id": "y6p51-tvPEBw",
        "outputId": "6d4fe273-ea8a-43e9-e6be-acd8250cc017"
      },
      "execution_count": null,
      "outputs": [
        {
          "output_type": "execute_result",
          "data": {
            "text/plain": [
              "['Hi', 'my', 'name', 'is', 'Jay']"
            ]
          },
          "metadata": {},
          "execution_count": 43
        }
      ]
    },
    {
      "cell_type": "code",
      "source": [
        "# Linear Search\n",
        "array = [10, 44, 14, 5, 94, 65]\n",
        "\n",
        "x = 5\n",
        "\n",
        "for i in range(len(array)) :\n",
        "  if array[i] == x :\n",
        "    print(i)\n",
        "\n",
        "print(\"Not found\")"
      ],
      "metadata": {
        "colab": {
          "base_uri": "https://localhost:8080/"
        },
        "id": "sn_AMzCkObY7",
        "outputId": "236d193c-5f2c-4ee8-a4b4-8913f2348de7"
      },
      "execution_count": null,
      "outputs": [
        {
          "output_type": "stream",
          "name": "stdout",
          "text": [
            "3\n",
            "Not found\n"
          ]
        }
      ]
    },
    {
      "cell_type": "code",
      "source": [
        "# Use a flag variable\n",
        "\n",
        "arr = [6, 9, 2, 5, 3, 0, 1]\n",
        "\n",
        "x = 10\n",
        "found = False\n",
        "\n",
        "for i in range(len(arr)) :\n",
        "  if arr[i] == x :\n",
        "    print(i)\n",
        "    found = True\n",
        "    break\n",
        "\n",
        "if found == False :\n",
        "  print(\"Not found\")"
      ],
      "metadata": {
        "colab": {
          "base_uri": "https://localhost:8080/"
        },
        "id": "TteLxPpOPWm7",
        "outputId": "a46d70dc-e492-4811-fa3d-774c90d53286"
      },
      "execution_count": null,
      "outputs": [
        {
          "output_type": "stream",
          "name": "stdout",
          "text": [
            "Not found\n"
          ]
        }
      ]
    },
    {
      "cell_type": "code",
      "source": [
        "# Given list and X, save index of first occurence of x in list\n",
        "\n",
        "arr = [6, 9, 2, 5, 3, 0, 1]\n",
        "\n",
        "x = 5\n",
        "idx = -1\n",
        "\n",
        "for i in range(len(arr)) :\n",
        "  if arr[i] == x :\n",
        "    idx = i\n",
        "    break\n",
        "\n",
        "if idx == -1 :\n",
        "  print(\"Not in list\")\n",
        "else :\n",
        "  print(idx)"
      ],
      "metadata": {
        "colab": {
          "base_uri": "https://localhost:8080/"
        },
        "id": "KS0LwrJ_Pr1W",
        "outputId": "10a20e8e-8049-48bb-eaad-9ae5779bb814"
      },
      "execution_count": null,
      "outputs": [
        {
          "output_type": "stream",
          "name": "stdout",
          "text": [
            "3\n"
          ]
        }
      ]
    },
    {
      "cell_type": "code",
      "source": [
        "# Given list and X, print count of x in list\n",
        "\n",
        "arr = [6, 9, 2, 5, 3, 0, 1]\n",
        "\n",
        "x = 5\n",
        "cnt = 0\n",
        "\n",
        "for i in range(len(arr)) :\n",
        "  if arr[i] == x :\n",
        "    cnt = cnt + 1\n",
        "\n",
        "print(cnt)"
      ],
      "metadata": {
        "colab": {
          "base_uri": "https://localhost:8080/"
        },
        "id": "MLDH45CCP3kH",
        "outputId": "3840d8b3-20e9-49a4-fef1-47850e2515dc"
      },
      "execution_count": null,
      "outputs": [
        {
          "output_type": "stream",
          "name": "stdout",
          "text": [
            "1\n"
          ]
        }
      ]
    },
    {
      "cell_type": "code",
      "source": [
        "# List Slicing\n",
        "\n",
        "# Given the runs made by Sachin in a list, find the runs made in:\n",
        "\n",
        "# odd indexed matches (1st, 3rd, 5th, 7th, ...)\n",
        "# even indexed matches (2nd, 4th, 6th ...)\n",
        "# first 5 matches\n",
        "# last 5 matches  "
      ],
      "metadata": {
        "id": "KYlB9luDRr79"
      },
      "execution_count": null,
      "outputs": []
    },
    {
      "cell_type": "code",
      "source": [
        "runs = [100, 89, 0, 70, 23, 56, 121, 43, 58, 90]"
      ],
      "metadata": {
        "id": "9Uu-nhWiRsAt"
      },
      "execution_count": null,
      "outputs": []
    },
    {
      "cell_type": "code",
      "source": [
        "# Odd indexed matches\n",
        "odd_runs = []\n",
        "for i in range(1, len(runs), 2):\n",
        "    odd_runs.append(runs[i])\n",
        "\n",
        "print(odd_runs)"
      ],
      "metadata": {
        "colab": {
          "base_uri": "https://localhost:8080/"
        },
        "id": "ISS2aDxkRsEl",
        "outputId": "666ad013-5e5c-4d64-b493-2cc880798ed9"
      },
      "execution_count": null,
      "outputs": [
        {
          "output_type": "stream",
          "name": "stdout",
          "text": [
            "[89, 70, 56, 43, 90]\n"
          ]
        }
      ]
    },
    {
      "cell_type": "code",
      "source": [
        "#slicing method\n",
        "# Odd indexed scores\n",
        "odd_runs = runs[1:len(runs):2]\n",
        "print(odd_runs)"
      ],
      "metadata": {
        "colab": {
          "base_uri": "https://localhost:8080/"
        },
        "id": "OG5ejan7SU6J",
        "outputId": "13ad8cf2-2bba-4475-e061-b67910a42f40"
      },
      "execution_count": null,
      "outputs": [
        {
          "output_type": "stream",
          "name": "stdout",
          "text": [
            "[89, 70, 56, 43, 90]\n"
          ]
        }
      ]
    },
    {
      "cell_type": "code",
      "source": [
        "# Even indexed matches\n",
        "even_runs = []\n",
        "\n",
        "for i in range(0, len(runs), 2):\n",
        "    even_runs.append(runs[i])\n",
        "\n",
        "print(even_runs)"
      ],
      "metadata": {
        "colab": {
          "base_uri": "https://localhost:8080/"
        },
        "id": "5VqeOQzsRsJI",
        "outputId": "43f08a4d-fad2-4712-8343-d20476602ec6"
      },
      "execution_count": null,
      "outputs": [
        {
          "output_type": "stream",
          "name": "stdout",
          "text": [
            "[100, 0, 23, 121, 58]\n"
          ]
        }
      ]
    },
    {
      "cell_type": "code",
      "source": [
        "#slicing method\n",
        "# Even indexed scores\n",
        "eve_runs = runs[0:len(runs):2]\n",
        "print(eve_runs)"
      ],
      "metadata": {
        "colab": {
          "base_uri": "https://localhost:8080/"
        },
        "id": "OT_jN1rNSscD",
        "outputId": "aeffc00d-2402-4182-f24f-f74168e75e5b"
      },
      "execution_count": null,
      "outputs": [
        {
          "output_type": "stream",
          "name": "stdout",
          "text": [
            "[100, 0, 23, 121, 58]\n"
          ]
        }
      ]
    },
    {
      "cell_type": "code",
      "source": [
        "# First 5 matches\n",
        "first_5 = runs[0:5:1]\n",
        "print(first_5)"
      ],
      "metadata": {
        "colab": {
          "base_uri": "https://localhost:8080/"
        },
        "id": "9cUclnqmSpyT",
        "outputId": "aaab8782-9977-436d-c8ff-e4fad9c1a24f"
      },
      "execution_count": null,
      "outputs": [
        {
          "output_type": "stream",
          "name": "stdout",
          "text": [
            "[100, 89, 0, 70, 23]\n"
          ]
        }
      ]
    },
    {
      "cell_type": "code",
      "source": [
        "# Slicing examples\n",
        "a = [10, 20, 30, 40, 50, 60, 70]\n"
      ],
      "metadata": {
        "id": "E0NXLWLZTHbV"
      },
      "execution_count": null,
      "outputs": []
    },
    {
      "cell_type": "code",
      "source": [
        "print(a[4:])"
      ],
      "metadata": {
        "colab": {
          "base_uri": "https://localhost:8080/"
        },
        "id": "wumbpGDMTPih",
        "outputId": "aa71786d-c760-4cf3-a8bd-486d04674e63"
      },
      "execution_count": null,
      "outputs": [
        {
          "output_type": "stream",
          "name": "stdout",
          "text": [
            "[50, 60, 70]\n"
          ]
        }
      ]
    },
    {
      "cell_type": "code",
      "source": [
        "print(a[:4])"
      ],
      "metadata": {
        "colab": {
          "base_uri": "https://localhost:8080/"
        },
        "id": "sCA7RiW2TRHL",
        "outputId": "d03875d0-7c36-45b3-d427-9a2d3695163c"
      },
      "execution_count": null,
      "outputs": [
        {
          "output_type": "stream",
          "name": "stdout",
          "text": [
            "[10, 20, 30, 40]\n"
          ]
        }
      ]
    },
    {
      "cell_type": "code",
      "source": [
        "print(a[::2])"
      ],
      "metadata": {
        "colab": {
          "base_uri": "https://localhost:8080/"
        },
        "id": "dkHo-naQTVrQ",
        "outputId": "208008a0-e3d8-4352-9913-41782799142d"
      },
      "execution_count": null,
      "outputs": [
        {
          "output_type": "stream",
          "name": "stdout",
          "text": [
            "[10, 30, 50, 70]\n"
          ]
        }
      ]
    },
    {
      "cell_type": "code",
      "source": [
        "print(a[2::4])"
      ],
      "metadata": {
        "colab": {
          "base_uri": "https://localhost:8080/"
        },
        "id": "hRm-QT8eTcJq",
        "outputId": "4da64f48-3b6e-484d-828b-07fd8edd761f"
      },
      "execution_count": null,
      "outputs": [
        {
          "output_type": "stream",
          "name": "stdout",
          "text": [
            "[30, 70]\n"
          ]
        }
      ]
    },
    {
      "cell_type": "code",
      "source": [
        "print(a[2::4])"
      ],
      "metadata": {
        "colab": {
          "base_uri": "https://localhost:8080/"
        },
        "id": "JNd00uYRUWHa",
        "outputId": "55ef4557-aed9-4d81-a7eb-78640cee43c9"
      },
      "execution_count": null,
      "outputs": [
        {
          "output_type": "stream",
          "name": "stdout",
          "text": [
            "[30, 70]\n"
          ]
        }
      ]
    },
    {
      "cell_type": "code",
      "source": [
        "# Negative steps\n",
        "a = [5, 9, 2, 8, 6, 4]\n",
        "print(a[4:1:-1])\n",
        "# start=4, end=1, step= -1"
      ],
      "metadata": {
        "colab": {
          "base_uri": "https://localhost:8080/"
        },
        "id": "6zwgt_AvUrdi",
        "outputId": "83e8ceb7-e31c-4f11-c36b-42c249e385c0"
      },
      "execution_count": null,
      "outputs": [
        {
          "output_type": "stream",
          "name": "stdout",
          "text": [
            "[6, 8, 2]\n"
          ]
        }
      ]
    },
    {
      "cell_type": "code",
      "source": [
        "# Map function\n",
        "\n",
        "# Calls a function on all items in an iterable\n",
        "\n",
        "# Syntax\n",
        "# map(function, iterable)\n",
        "\n",
        "# iterables -> list, range, string, dictionary, set, tuple"
      ],
      "metadata": {
        "id": "Z61hACkLXlpM"
      },
      "execution_count": null,
      "outputs": []
    },
    {
      "cell_type": "code",
      "source": [
        "a = [5, 9, 1, 4, 3]\n",
        "def square(x) :\n",
        "  return x ** 2\n",
        "\n",
        "ls = []\n",
        "\n",
        "for i in a :\n",
        "  ls.append( square(i) )\n",
        "\n",
        "print(ls)"
      ],
      "metadata": {
        "colab": {
          "base_uri": "https://localhost:8080/"
        },
        "id": "lbfQjyxgXM_0",
        "outputId": "5e2f9e9f-e733-4a77-fab7-b7df3dac7c4b"
      },
      "execution_count": null,
      "outputs": [
        {
          "output_type": "stream",
          "name": "stdout",
          "text": [
            "[25, 81, 1, 16, 9]\n"
          ]
        }
      ]
    },
    {
      "cell_type": "code",
      "source": [
        "def square(x) :\n",
        "  return x ** 2\n",
        "\n",
        "ls = list(map(square, a))\n",
        "\n",
        "print(ls)"
      ],
      "metadata": {
        "colab": {
          "base_uri": "https://localhost:8080/"
        },
        "id": "B5D8xuBjXpM-",
        "outputId": "e9b59202-dc49-4a0c-c078-455f2fe346b4"
      },
      "execution_count": null,
      "outputs": [
        {
          "output_type": "stream",
          "name": "stdout",
          "text": [
            "[25, 81, 1, 16, 9]\n"
          ]
        }
      ]
    },
    {
      "cell_type": "code",
      "source": [
        "# take this list as input : l = 10 5 2 6\n",
        "\n",
        "s = input() # s = '10 5 2 6'\n",
        "l = s.split() # l = [\"10\", \"5\", \"2\", \"6\"]\n",
        "\n",
        "ls = list(map(int, l))\n",
        "print(ls)"
      ],
      "metadata": {
        "colab": {
          "base_uri": "https://localhost:8080/"
        },
        "id": "f2ZvACnLYY1p",
        "outputId": "b7cb98ed-a803-441c-f546-897a00807501"
      },
      "execution_count": null,
      "outputs": [
        {
          "output_type": "stream",
          "name": "stdout",
          "text": [
            "10 5 2 6\n",
            "[10, 5, 2, 6]\n"
          ]
        }
      ]
    },
    {
      "cell_type": "code",
      "source": [
        "# input().split() -> takes input, converts it to a list\n",
        "\n",
        "ls = list(map(int, input().split()))\n",
        "print(ls)"
      ],
      "metadata": {
        "colab": {
          "base_uri": "https://localhost:8080/"
        },
        "id": "iVVthiaQYlj7",
        "outputId": "39fc8f98-45e1-4ce1-ee14-58bd6062b603"
      },
      "execution_count": null,
      "outputs": [
        {
          "output_type": "stream",
          "name": "stdout",
          "text": [
            "10 5 2 6\n",
            "[10, 5, 2, 6]\n"
          ]
        }
      ]
    },
    {
      "cell_type": "code",
      "source": [
        "# extend\n",
        "a = []\n",
        "b = [120, 30, 50]\n",
        "a.extend(b)\n",
        "print(a)"
      ],
      "metadata": {
        "colab": {
          "base_uri": "https://localhost:8080/"
        },
        "id": "3BXNd1DIuevz",
        "outputId": "05e593b0-a073-4248-9b53-248ac74d23ec"
      },
      "execution_count": 1,
      "outputs": [
        {
          "output_type": "stream",
          "name": "stdout",
          "text": [
            "[120, 30, 50]\n"
          ]
        }
      ]
    },
    {
      "cell_type": "code",
      "source": [
        "# append\n",
        "a = []\n",
        "b = [120, 30, 50]\n",
        "a.append(b)\n",
        "print(a)"
      ],
      "metadata": {
        "colab": {
          "base_uri": "https://localhost:8080/"
        },
        "id": "SyKH3yBsusV0",
        "outputId": "35162161-3dff-4107-d6cb-4d2d733a79bc"
      },
      "execution_count": 2,
      "outputs": [
        {
          "output_type": "stream",
          "name": "stdout",
          "text": [
            "[[120, 30, 50]]\n"
          ]
        }
      ]
    },
    {
      "cell_type": "code",
      "source": [
        "# 2D list\n",
        "a = [\n",
        "      [10, 20], # Row 0\n",
        "      [30, 40], # Row 1\n",
        "      [50, 60], # Row 2\n",
        "      [70, 80], # Row 3\n",
        "      [90, 100], # Row 4\n",
        "]\n",
        "\n",
        "# a is a list of lists ( 2D list )\n",
        "# each list inside a represents a row\n",
        "print(a)"
      ],
      "metadata": {
        "colab": {
          "base_uri": "https://localhost:8080/"
        },
        "id": "pR0gog9RvYPi",
        "outputId": "32c849d9-2710-412e-d6aa-26c83e4adc8b"
      },
      "execution_count": 4,
      "outputs": [
        {
          "output_type": "stream",
          "name": "stdout",
          "text": [
            "[[10, 20], [30, 40], [50, 60], [70, 80], [90, 100]]\n"
          ]
        }
      ]
    },
    {
      "cell_type": "code",
      "source": [
        "print(a[0]) # row 0\n",
        "\n",
        "print(a[1]) # row 1\n",
        "\n",
        "print(a[0][1]) # 1th element of 0th row"
      ],
      "metadata": {
        "colab": {
          "base_uri": "https://localhost:8080/"
        },
        "id": "bmovBHdkvgCr",
        "outputId": "46eb4f4b-d68c-48ab-b3b5-c90a50ac1208"
      },
      "execution_count": 5,
      "outputs": [
        {
          "output_type": "stream",
          "name": "stdout",
          "text": [
            "[10, 20]\n",
            "[30, 40]\n",
            "20\n"
          ]
        }
      ]
    },
    {
      "cell_type": "code",
      "source": [
        "# Number of rows inside the 2D list\n",
        "print(\"Number of rows\", len(a))\n",
        "\n",
        "# Number of cols inside the 2D list ( only for same columns in each row )\n",
        "print(\"Number of cols\", len(a[0]))"
      ],
      "metadata": {
        "colab": {
          "base_uri": "https://localhost:8080/"
        },
        "id": "gcKeUoSnvlOK",
        "outputId": "070adef9-b492-4d04-f2af-7bf9ab6bdea9"
      },
      "execution_count": 6,
      "outputs": [
        {
          "output_type": "stream",
          "name": "stdout",
          "text": [
            "Number of rows 5\n",
            "Number of cols 2\n"
          ]
        }
      ]
    },
    {
      "cell_type": "code",
      "source": [
        "# Given a 2D Array, print the sum of each row separately.\n",
        "a = [[10, 20], [30, 40], [50, 60]]\n",
        "\n",
        "# 30\n",
        "# 70\n",
        "# 110\n",
        "\n",
        "for i in range(len(a)) :\n",
        "\n",
        "  row = a[i] # ith row in 2D list\n",
        "  # print(sum(row))\n",
        "\n",
        "  sum = 0\n",
        "\n",
        "  for j in range(len(row)) :\n",
        "\n",
        "    col = row[j] # jth col in ith row\n",
        "    sum = sum + col\n",
        "    # sum = sum + a[i][j]\n",
        "    \n",
        "  print(sum)"
      ],
      "metadata": {
        "colab": {
          "base_uri": "https://localhost:8080/"
        },
        "id": "nWbzl9ABwFlJ",
        "outputId": "60229cee-b663-4a99-e1a8-3579409651fa"
      },
      "execution_count": 7,
      "outputs": [
        {
          "output_type": "stream",
          "name": "stdout",
          "text": [
            "30\n",
            "70\n",
            "110\n"
          ]
        }
      ]
    },
    {
      "cell_type": "code",
      "source": [
        "# Maximum of each row\n",
        "a = [\n",
        "    [10, 20],\n",
        "    [30, 40],\n",
        "    [50, 60],\n",
        "]\n",
        "\n",
        "# print( list(map(max, a)) )\n",
        "\n",
        "for row in a :\n",
        "  # print(max(row)) # Just like max there is min, sum, avg, count\n",
        "\n",
        "  mx = float(\"-inf\")\n",
        "  for col in row :\n",
        "    if col > mx :\n",
        "      mx = col\n",
        "  print(mx)"
      ],
      "metadata": {
        "colab": {
          "base_uri": "https://localhost:8080/"
        },
        "id": "TTWftWLDwWXd",
        "outputId": "74ed6534-822e-4069-98fb-fd04f7d9b4c9"
      },
      "execution_count": 8,
      "outputs": [
        {
          "output_type": "stream",
          "name": "stdout",
          "text": [
            "20\n",
            "40\n",
            "60\n"
          ]
        }
      ]
    },
    {
      "cell_type": "code",
      "source": [
        "# Sum of two matrices\n",
        "A = [\n",
        "    [2, 9],\n",
        "    [8, 7],\n",
        "    [0, 1]\n",
        "]\n",
        "\n",
        "B = [\n",
        "    [10, -5],\n",
        "    [-3, 1],\n",
        "    [3, 0]\n",
        "]\n",
        "\n",
        "C = []\n",
        "\n",
        "rows = len(A) # no of rows in A, B\n",
        "cols = len(A[0]) # no of cols in A, B\n",
        "\n",
        "for i in range(rows) :\n",
        "\n",
        "  row = []\n",
        "\n",
        "  for j in range(cols) :\n",
        "    \n",
        "    val = A[i][j] + B[i][j]\n",
        "    row.append(val)\n",
        "\n",
        "  C.append(row)\n",
        "\n",
        "print(C)\n"
      ],
      "metadata": {
        "colab": {
          "base_uri": "https://localhost:8080/"
        },
        "id": "MBfIh7auxJh1",
        "outputId": "b758428b-3bf2-499c-fa5c-a835631a8372"
      },
      "execution_count": 9,
      "outputs": [
        {
          "output_type": "stream",
          "name": "stdout",
          "text": [
            "[[12, 4], [5, 8], [3, 1]]\n"
          ]
        }
      ]
    },
    {
      "cell_type": "code",
      "source": [
        "# Swap two numbers\n",
        "A = 3\n",
        "B = 10\n",
        "\n",
        "A, B = B, A\n",
        "\n",
        "print(A, B)"
      ],
      "metadata": {
        "colab": {
          "base_uri": "https://localhost:8080/"
        },
        "id": "DaPIoA7Gxaec",
        "outputId": "5b779218-1736-4f25-b91d-da8f6ed5066f"
      },
      "execution_count": 10,
      "outputs": [
        {
          "output_type": "stream",
          "name": "stdout",
          "text": [
            "10 3\n"
          ]
        }
      ]
    },
    {
      "cell_type": "code",
      "source": [
        "# Transpose of matrices\n",
        "A = [\n",
        "    [1, 2, 3],\n",
        "    [4, 5, 6]\n",
        "]\n",
        "\n",
        "T = []\n",
        "\n",
        "rows = len(A)\n",
        "cols = len(A[0])\n",
        "\n",
        "for col in range(cols) :\n",
        "\n",
        "  # Put all column values inside a list\n",
        "  ls = []\n",
        "\n",
        "  for row in range(rows) :\n",
        "    ls.append(A[row][col])\n",
        "  \n",
        "  # Put list inside transpose\n",
        "  T.append(ls)\n",
        "\n",
        "print(T)"
      ],
      "metadata": {
        "colab": {
          "base_uri": "https://localhost:8080/"
        },
        "id": "Fd_vBkzkxi0u",
        "outputId": "26cf1aa5-3da2-43aa-fa74-efbe8df49f72"
      },
      "execution_count": 11,
      "outputs": [
        {
          "output_type": "stream",
          "name": "stdout",
          "text": [
            "[[1, 4], [2, 5], [3, 6]]\n"
          ]
        }
      ]
    }
  ]
}